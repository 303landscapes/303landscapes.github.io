{
 "cells": [
  {
   "cell_type": "code",
   "execution_count": 23,
   "metadata": {},
   "outputs": [],
   "source": [
    "import pandas as pd\n",
    "from datetime import datetime\n",
    "import yaml\n",
    "import numpy as np"
   ]
  },
  {
   "cell_type": "code",
   "execution_count": 16,
   "metadata": {},
   "outputs": [],
   "source": [
    "def openYaml(yamlFilePath : str) -> dict: \n",
    "    yamlFile = open(yamlFilePath)\n",
    "    parsed = yaml.load(yamlFile, Loader =yaml.FullLoader)\n",
    "    return(parsed)"
   ]
  },
  {
   "cell_type": "code",
   "execution_count": 17,
   "metadata": {},
   "outputs": [],
   "source": [
    "demoData = pd.read_csv(\"demo.csv\")\n",
    "wages = openYaml(\"employee.yml\")"
   ]
  },
  {
   "cell_type": "code",
   "execution_count": 18,
   "metadata": {},
   "outputs": [
    {
     "data": {
      "text/html": [
       "<div>\n",
       "<style scoped>\n",
       "    .dataframe tbody tr th:only-of-type {\n",
       "        vertical-align: middle;\n",
       "    }\n",
       "\n",
       "    .dataframe tbody tr th {\n",
       "        vertical-align: top;\n",
       "    }\n",
       "\n",
       "    .dataframe thead th {\n",
       "        text-align: right;\n",
       "    }\n",
       "</style>\n",
       "<table border=\"1\" class=\"dataframe\">\n",
       "  <thead>\n",
       "    <tr style=\"text-align: right;\">\n",
       "      <th></th>\n",
       "      <th>date</th>\n",
       "      <th>client</th>\n",
       "      <th>time_in</th>\n",
       "      <th>time_out</th>\n",
       "      <th>tasks</th>\n",
       "      <th>employees</th>\n",
       "    </tr>\n",
       "  </thead>\n",
       "  <tbody>\n",
       "    <tr>\n",
       "      <th>0</th>\n",
       "      <td>3/15/21</td>\n",
       "      <td>Jenny</td>\n",
       "      <td>10:00 AM</td>\n",
       "      <td>11:00 AM</td>\n",
       "      <td>pull weeds, trim hedges, blow</td>\n",
       "      <td>Jack, Paco</td>\n",
       "    </tr>\n",
       "    <tr>\n",
       "      <th>1</th>\n",
       "      <td>3/15/21</td>\n",
       "      <td>Jim</td>\n",
       "      <td>11:00 AM</td>\n",
       "      <td>2:00 PM</td>\n",
       "      <td>pull weeds, cut branches, fertilize, blow</td>\n",
       "      <td>Jack, Paco</td>\n",
       "    </tr>\n",
       "    <tr>\n",
       "      <th>2</th>\n",
       "      <td>3/16/21</td>\n",
       "      <td>Heather</td>\n",
       "      <td>7:00 AM</td>\n",
       "      <td>12:00 PM</td>\n",
       "      <td>pull weeds, fertilize, blow</td>\n",
       "      <td>Jack</td>\n",
       "    </tr>\n",
       "  </tbody>\n",
       "</table>\n",
       "</div>"
      ],
      "text/plain": [
       "      date   client   time_in  time_out  \\\n",
       "0  3/15/21    Jenny  10:00 AM  11:00 AM   \n",
       "1  3/15/21      Jim  11:00 AM   2:00 PM   \n",
       "2  3/16/21  Heather   7:00 AM  12:00 PM   \n",
       "\n",
       "                                       tasks   employees  \n",
       "0              pull weeds, trim hedges, blow  Jack, Paco  \n",
       "1  pull weeds, cut branches, fertilize, blow  Jack, Paco  \n",
       "2                pull weeds, fertilize, blow        Jack  "
      ]
     },
     "execution_count": 18,
     "metadata": {},
     "output_type": "execute_result"
    }
   ],
   "source": [
    "demoData"
   ]
  },
  {
   "cell_type": "code",
   "execution_count": 28,
   "metadata": {},
   "outputs": [],
   "source": [
    "timeList = []\n",
    "for index,column in demoData.iterrows():\n",
    "    startTime = datetime.strptime(column[\"time_in\"], \"%I:%M %p\")\n",
    "    endTime = datetime.strptime(column[\"time_out\"], \"%I:%M %p\")\n",
    "    totalTimeDelta = endTime - startTime\n",
    "    totalTime = totalTimeDelta.seconds / 3600\n",
    "    timeList.append(totalTime)\n",
    "    \n",
    "demoData[\"total_time\"] = timeList"
   ]
  },
  {
   "cell_type": "code",
   "execution_count": 29,
   "metadata": {},
   "outputs": [
    {
     "data": {
      "text/html": [
       "<div>\n",
       "<style scoped>\n",
       "    .dataframe tbody tr th:only-of-type {\n",
       "        vertical-align: middle;\n",
       "    }\n",
       "\n",
       "    .dataframe tbody tr th {\n",
       "        vertical-align: top;\n",
       "    }\n",
       "\n",
       "    .dataframe thead th {\n",
       "        text-align: right;\n",
       "    }\n",
       "</style>\n",
       "<table border=\"1\" class=\"dataframe\">\n",
       "  <thead>\n",
       "    <tr style=\"text-align: right;\">\n",
       "      <th></th>\n",
       "      <th>date</th>\n",
       "      <th>client</th>\n",
       "      <th>time_in</th>\n",
       "      <th>time_out</th>\n",
       "      <th>tasks</th>\n",
       "      <th>employees</th>\n",
       "      <th>total_time</th>\n",
       "    </tr>\n",
       "  </thead>\n",
       "  <tbody>\n",
       "    <tr>\n",
       "      <th>0</th>\n",
       "      <td>3/15/21</td>\n",
       "      <td>Jenny</td>\n",
       "      <td>10:00 AM</td>\n",
       "      <td>11:00 AM</td>\n",
       "      <td>pull weeds, trim hedges, blow</td>\n",
       "      <td>Jack, Paco</td>\n",
       "      <td>1.0</td>\n",
       "    </tr>\n",
       "    <tr>\n",
       "      <th>1</th>\n",
       "      <td>3/15/21</td>\n",
       "      <td>Jim</td>\n",
       "      <td>11:00 AM</td>\n",
       "      <td>2:00 PM</td>\n",
       "      <td>pull weeds, cut branches, fertilize, blow</td>\n",
       "      <td>Jack, Paco</td>\n",
       "      <td>3.0</td>\n",
       "    </tr>\n",
       "    <tr>\n",
       "      <th>2</th>\n",
       "      <td>3/16/21</td>\n",
       "      <td>Heather</td>\n",
       "      <td>7:00 AM</td>\n",
       "      <td>12:00 PM</td>\n",
       "      <td>pull weeds, fertilize, blow</td>\n",
       "      <td>Jack</td>\n",
       "      <td>5.0</td>\n",
       "    </tr>\n",
       "  </tbody>\n",
       "</table>\n",
       "</div>"
      ],
      "text/plain": [
       "      date   client   time_in  time_out  \\\n",
       "0  3/15/21    Jenny  10:00 AM  11:00 AM   \n",
       "1  3/15/21      Jim  11:00 AM   2:00 PM   \n",
       "2  3/16/21  Heather   7:00 AM  12:00 PM   \n",
       "\n",
       "                                       tasks   employees  total_time  \n",
       "0              pull weeds, trim hedges, blow  Jack, Paco         1.0  \n",
       "1  pull weeds, cut branches, fertilize, blow  Jack, Paco         3.0  \n",
       "2                pull weeds, fertilize, blow        Jack         5.0  "
      ]
     },
     "execution_count": 29,
     "metadata": {},
     "output_type": "execute_result"
    }
   ],
   "source": [
    "demoData"
   ]
  },
  {
   "cell_type": "code",
   "execution_count": 36,
   "metadata": {},
   "outputs": [],
   "source": [
    "laborCost = []\n",
    "for index,column in demoData.iterrows():\n",
    "    employees = column[\"employees\"].split(\", \")\n",
    "    \n",
    "    _laborCost = 0\n",
    "    \n",
    "    for i,e in enumerate(employees):\n",
    "        if e in wages.keys():\n",
    "            _labor = wages[e] * column[\"total_time\"]\n",
    "            _laborCost += _labor\n",
    "    \n",
    "    laborCost.append(_laborCost)\n",
    "        \n",
    "demoData[\"labor_cost\"] = laborCost   "
   ]
  },
  {
   "cell_type": "code",
   "execution_count": 38,
   "metadata": {},
   "outputs": [
    {
     "data": {
      "text/html": [
       "<div>\n",
       "<style scoped>\n",
       "    .dataframe tbody tr th:only-of-type {\n",
       "        vertical-align: middle;\n",
       "    }\n",
       "\n",
       "    .dataframe tbody tr th {\n",
       "        vertical-align: top;\n",
       "    }\n",
       "\n",
       "    .dataframe thead th {\n",
       "        text-align: right;\n",
       "    }\n",
       "</style>\n",
       "<table border=\"1\" class=\"dataframe\">\n",
       "  <thead>\n",
       "    <tr style=\"text-align: right;\">\n",
       "      <th></th>\n",
       "      <th>date</th>\n",
       "      <th>client</th>\n",
       "      <th>time_in</th>\n",
       "      <th>time_out</th>\n",
       "      <th>tasks</th>\n",
       "      <th>employees</th>\n",
       "      <th>total_time</th>\n",
       "      <th>labor_cost</th>\n",
       "    </tr>\n",
       "  </thead>\n",
       "  <tbody>\n",
       "    <tr>\n",
       "      <th>0</th>\n",
       "      <td>3/15/21</td>\n",
       "      <td>Jenny</td>\n",
       "      <td>10:00 AM</td>\n",
       "      <td>11:00 AM</td>\n",
       "      <td>pull weeds, trim hedges, blow</td>\n",
       "      <td>Jack, Paco</td>\n",
       "      <td>1.0</td>\n",
       "      <td>30.0</td>\n",
       "    </tr>\n",
       "    <tr>\n",
       "      <th>1</th>\n",
       "      <td>3/15/21</td>\n",
       "      <td>Jim</td>\n",
       "      <td>11:00 AM</td>\n",
       "      <td>2:00 PM</td>\n",
       "      <td>pull weeds, cut branches, fertilize, blow</td>\n",
       "      <td>Jack, Paco</td>\n",
       "      <td>3.0</td>\n",
       "      <td>90.0</td>\n",
       "    </tr>\n",
       "    <tr>\n",
       "      <th>2</th>\n",
       "      <td>3/16/21</td>\n",
       "      <td>Heather</td>\n",
       "      <td>7:00 AM</td>\n",
       "      <td>12:00 PM</td>\n",
       "      <td>pull weeds, fertilize, blow</td>\n",
       "      <td>Jack</td>\n",
       "      <td>5.0</td>\n",
       "      <td>85.0</td>\n",
       "    </tr>\n",
       "  </tbody>\n",
       "</table>\n",
       "</div>"
      ],
      "text/plain": [
       "      date   client   time_in  time_out  \\\n",
       "0  3/15/21    Jenny  10:00 AM  11:00 AM   \n",
       "1  3/15/21      Jim  11:00 AM   2:00 PM   \n",
       "2  3/16/21  Heather   7:00 AM  12:00 PM   \n",
       "\n",
       "                                       tasks   employees  total_time  \\\n",
       "0              pull weeds, trim hedges, blow  Jack, Paco         1.0   \n",
       "1  pull weeds, cut branches, fertilize, blow  Jack, Paco         3.0   \n",
       "2                pull weeds, fertilize, blow        Jack         5.0   \n",
       "\n",
       "   labor_cost  \n",
       "0        30.0  \n",
       "1        90.0  \n",
       "2        85.0  "
      ]
     },
     "execution_count": 38,
     "metadata": {},
     "output_type": "execute_result"
    }
   ],
   "source": [
    "demoData"
   ]
  },
  {
   "cell_type": "code",
   "execution_count": null,
   "metadata": {},
   "outputs": [],
   "source": []
  }
 ],
 "metadata": {
  "kernelspec": {
   "display_name": "Python 3",
   "language": "python",
   "name": "python3"
  },
  "language_info": {
   "codemirror_mode": {
    "name": "ipython",
    "version": 3
   },
   "file_extension": ".py",
   "mimetype": "text/x-python",
   "name": "python",
   "nbconvert_exporter": "python",
   "pygments_lexer": "ipython3",
   "version": "3.7.3"
  }
 },
 "nbformat": 4,
 "nbformat_minor": 4
}
